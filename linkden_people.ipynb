{
  "nbformat": 4,
  "nbformat_minor": 0,
  "metadata": {
    "colab": {
      "provenance": []
    },
    "kernelspec": {
      "name": "python3",
      "display_name": "Python 3"
    },
    "language_info": {
      "name": "python"
    }
  },
  "cells": [
    {
      "cell_type": "code",
      "execution_count": null,
      "metadata": {
        "colab": {
          "base_uri": "https://localhost:8080/"
        },
        "id": "6PzWG3cSSDLF",
        "outputId": "3629f995-67d9-4e15-deb8-23d533b899f3"
      },
      "outputs": [
        {
          "output_type": "stream",
          "name": "stdout",
          "text": [
            "Drive already mounted at /content/gdrive; to attempt to forcibly remount, call drive.mount(\"/content/gdrive\", force_remount=True).\n"
          ]
        }
      ],
      "source": [
        "from google.colab import drive\n",
        "drive.mount('/content/gdrive')"
      ]
    },
    {
      "cell_type": "code",
      "source": [
        "!ln -s /content/gdrive/My\\ Drive/ /mydrive"
      ],
      "metadata": {
        "id": "39hLOV7lSJfC",
        "colab": {
          "base_uri": "https://localhost:8080/"
        },
        "outputId": "ffd43384-7efe-4682-8f55-366e422d8b49"
      },
      "execution_count": null,
      "outputs": [
        {
          "output_type": "stream",
          "name": "stdout",
          "text": [
            "ln: failed to create symbolic link '/mydrive/My Drive': File exists\n"
          ]
        }
      ]
    },
    {
      "cell_type": "code",
      "source": [
        "%cd /mydrive/community_detection/"
      ],
      "metadata": {
        "colab": {
          "base_uri": "https://localhost:8080/"
        },
        "id": "_3FjV-kMSSOU",
        "outputId": "eb9d2c7f-06cd-451b-ee4c-fc16a860383d"
      },
      "execution_count": null,
      "outputs": [
        {
          "output_type": "stream",
          "name": "stdout",
          "text": [
            "/content/gdrive/My Drive/community_detection\n"
          ]
        }
      ]
    },
    {
      "cell_type": "code",
      "source": [
        "!cp LinkedIn\\ company\\ information\\ datasets\\ \\(Public\\ web\\ data\\).csv company.csv"
      ],
      "metadata": {
        "id": "p9m4xWnXSa99"
      },
      "execution_count": null,
      "outputs": []
    },
    {
      "cell_type": "code",
      "source": [
        "!cp LinkedIn\\ people\\ profiles\\ datasets.csv people.csv"
      ],
      "metadata": {
        "id": "3jLTrcCaTCvA"
      },
      "execution_count": null,
      "outputs": []
    },
    {
      "cell_type": "code",
      "source": [
        "import numpy as np\n",
        "import pandas as pd\n",
        "import seaborn as sns\n",
        "import matplotlib.pyplot as plt\n",
        "import json"
      ],
      "metadata": {
        "id": "3W2p9AqZTTD9"
      },
      "execution_count": null,
      "outputs": []
    },
    {
      "cell_type": "code",
      "source": [
        "df = pd.read_csv('people.csv')"
      ],
      "metadata": {
        "id": "yf-3oYIfTZeN"
      },
      "execution_count": null,
      "outputs": []
    },
    {
      "cell_type": "code",
      "source": [
        "len(df.columns)"
      ],
      "metadata": {
        "colab": {
          "base_uri": "https://localhost:8080/"
        },
        "id": "m3fhvuzTxk7R",
        "outputId": "f1f8ca3e-3ed0-4463-cd8f-18b79a0092e0"
      },
      "execution_count": null,
      "outputs": [
        {
          "output_type": "execute_result",
          "data": {
            "text/plain": [
              "26"
            ]
          },
          "metadata": {},
          "execution_count": 22
        }
      ]
    },
    {
      "cell_type": "code",
      "source": [
        "len(df)"
      ],
      "metadata": {
        "colab": {
          "base_uri": "https://localhost:8080/"
        },
        "id": "W_K2D_9uyNtJ",
        "outputId": "d852183a-fb35-422a-e4f8-50a8b480d000"
      },
      "execution_count": null,
      "outputs": [
        {
          "output_type": "execute_result",
          "data": {
            "text/plain": [
              "1000"
            ]
          },
          "metadata": {},
          "execution_count": 23
        }
      ]
    },
    {
      "cell_type": "code",
      "source": [
        "df.head()"
      ],
      "metadata": {
        "colab": {
          "base_uri": "https://localhost:8080/",
          "height": 446
        },
        "id": "_RS4ZO7qTedE",
        "outputId": "90933c3e-2aeb-404f-9ffa-41f3fa33a8e9"
      },
      "execution_count": null,
      "outputs": [
        {
          "output_type": "execute_result",
          "data": {
            "text/plain": [
              "    timestamp                            id  \\\n",
              "0  2023-01-10            catherinemcilkenny   \n",
              "1  2022-12-17           margot-bon-51a04624   \n",
              "2  2023-05-17            mike-dean-8509a193   \n",
              "3  2022-05-29  giovanna-panarella-99a0a4167   \n",
              "4  2022-12-06         steve-latimer-3364327   \n",
              "\n",
              "                                     name                       city  \\\n",
              "0  Catherine Fitzpatrick (McIlkenny), B.A                     Canada   \n",
              "1                              Margot Bon  The Randstad, Netherlands   \n",
              "2                               Mike Dean    England, United Kingdom   \n",
              "3                      Giovanna Panarella  Avellino, Campania, Italy   \n",
              "4                           Steve Latimer            Ontario, Canada   \n",
              "\n",
              "  country_code region     current_company:company_id  \\\n",
              "0           CA    NaN                            NaN   \n",
              "1           NL     EU               gemeente-utrecht   \n",
              "2           UK    NaN                   network-rail   \n",
              "3           IT     EU                            NaN   \n",
              "4           CA    NaN  mid-range-computer-group-inc.   \n",
              "\n",
              "            current_company:name  \\\n",
              "0                            NaN   \n",
              "1               Gemeente Utrecht   \n",
              "2                   Network Rail   \n",
              "3                      Freelance   \n",
              "4  Mid-Range Computer Group Inc.   \n",
              "\n",
              "                                            position  following  ...  \\\n",
              "0  Snr Business Analyst at Emploi et Développemen...        NaN  ...   \n",
              "1  Communicatieadviseur Corporate & Strategie Gem...        NaN  ...   \n",
              "2               Network Data Manager at Network Rail        NaN  ...   \n",
              "3                             Architetto (Freelance)      500.0  ...   \n",
              "4  Senior Account Executive at Mid-Range Computer...        NaN  ...   \n",
              "\n",
              "                                  people_also_viewed  \\\n",
              "0  [{\"profile_link\":\"https://ca.linkedin.com/in/l...   \n",
              "1  [{\"profile_link\":\"https://nl.linkedin.com/in/j...   \n",
              "2  [{\"profile_link\":\"https://uk.linkedin.com/in/g...   \n",
              "3  [{\"profile_link\":\"https://it.linkedin.com/in/e...   \n",
              "4  [{\"profile_link\":\"https://ca.linkedin.com/in/d...   \n",
              "\n",
              "             educations_details  \\\n",
              "0    Queen's University Belfast   \n",
              "1                           NaN   \n",
              "2          Brighton Polytechnic   \n",
              "3        Università di Camerino   \n",
              "4  St. Michael's College School   \n",
              "\n",
              "                                           education  \\\n",
              "0  [{\"degree\":\"Bachelor of Arts (B.A.) Honours\",\"...   \n",
              "1  [{\"degree\":\"Scrum en Agile werken\",\"end_year\":...   \n",
              "2  [{\"degree\":\"2:2\",\"end_year\":\"1991\",\"field\":\"El...   \n",
              "3  [{\"degree\":\"“Corso di aggiornamento profession...   \n",
              "4  [{\"degree\":\"\",\"end_year\":\"1978\",\"field\":\"\",\"me...   \n",
              "\n",
              "                                              avatar  \\\n",
              "0  https://media.licdn.com/dms/image/C4E03AQEcz_j...   \n",
              "1  https://static.licdn.com/sc/h/244xhbkr7g40x6bs...   \n",
              "2  https://media.licdn.com/dms/image/C4D03AQHLj-Z...   \n",
              "3  https://media-exp1.licdn.com/dms/image/C4D03AQ...   \n",
              "4                                                NaN   \n",
              "\n",
              "                                           languages  \\\n",
              "0                                                NaN   \n",
              "1  [{\"subtitle\":\"Professional working proficiency...   \n",
              "2                                                NaN   \n",
              "3                                                NaN   \n",
              "4                                                NaN   \n",
              "\n",
              "                                      certifications  \\\n",
              "0                                                NaN   \n",
              "1  [{\"meta\":\"Issued Jun 2013\",\"subtitle\":\"Van der...   \n",
              "2                                                NaN   \n",
              "3                                                NaN   \n",
              "4  [{\"meta\":\"Issued Jan 2022 See credential\",\"sub...   \n",
              "\n",
              "                                     recommendations recommendations_count  \\\n",
              "0                                                NaN                   NaN   \n",
              "1  Menno H. Poort “Ik werk al jaren prettig met M...                   2.0   \n",
              "2                                                NaN                   NaN   \n",
              "3                                                NaN                   NaN   \n",
              "4  Blake Reeves “If I was a customer, I would wan...                   1.0   \n",
              "\n",
              "                                volunteer_experience сourses  \n",
              "0                                                NaN     NaN  \n",
              "1  [{\"cause\":\"\",\"duration\":\"Sep 2010 Jul 2020 9 y...     NaN  \n",
              "2                                                NaN     NaN  \n",
              "3  [{\"cause\":\"Arts and Culture\",\"duration\":\"Jan 2...     NaN  \n",
              "4                                                NaN     NaN  \n",
              "\n",
              "[5 rows x 26 columns]"
            ],
            "text/html": [
              "\n",
              "  <div id=\"df-b3020182-28f2-4fc1-83b2-58b9a38f2cd4\" class=\"colab-df-container\">\n",
              "    <div>\n",
              "<style scoped>\n",
              "    .dataframe tbody tr th:only-of-type {\n",
              "        vertical-align: middle;\n",
              "    }\n",
              "\n",
              "    .dataframe tbody tr th {\n",
              "        vertical-align: top;\n",
              "    }\n",
              "\n",
              "    .dataframe thead th {\n",
              "        text-align: right;\n",
              "    }\n",
              "</style>\n",
              "<table border=\"1\" class=\"dataframe\">\n",
              "  <thead>\n",
              "    <tr style=\"text-align: right;\">\n",
              "      <th></th>\n",
              "      <th>timestamp</th>\n",
              "      <th>id</th>\n",
              "      <th>name</th>\n",
              "      <th>city</th>\n",
              "      <th>country_code</th>\n",
              "      <th>region</th>\n",
              "      <th>current_company:company_id</th>\n",
              "      <th>current_company:name</th>\n",
              "      <th>position</th>\n",
              "      <th>following</th>\n",
              "      <th>...</th>\n",
              "      <th>people_also_viewed</th>\n",
              "      <th>educations_details</th>\n",
              "      <th>education</th>\n",
              "      <th>avatar</th>\n",
              "      <th>languages</th>\n",
              "      <th>certifications</th>\n",
              "      <th>recommendations</th>\n",
              "      <th>recommendations_count</th>\n",
              "      <th>volunteer_experience</th>\n",
              "      <th>сourses</th>\n",
              "    </tr>\n",
              "  </thead>\n",
              "  <tbody>\n",
              "    <tr>\n",
              "      <th>0</th>\n",
              "      <td>2023-01-10</td>\n",
              "      <td>catherinemcilkenny</td>\n",
              "      <td>Catherine Fitzpatrick (McIlkenny), B.A</td>\n",
              "      <td>Canada</td>\n",
              "      <td>CA</td>\n",
              "      <td>NaN</td>\n",
              "      <td>NaN</td>\n",
              "      <td>NaN</td>\n",
              "      <td>Snr Business Analyst at Emploi et Développemen...</td>\n",
              "      <td>NaN</td>\n",
              "      <td>...</td>\n",
              "      <td>[{\"profile_link\":\"https://ca.linkedin.com/in/l...</td>\n",
              "      <td>Queen's University Belfast</td>\n",
              "      <td>[{\"degree\":\"Bachelor of Arts (B.A.) Honours\",\"...</td>\n",
              "      <td>https://media.licdn.com/dms/image/C4E03AQEcz_j...</td>\n",
              "      <td>NaN</td>\n",
              "      <td>NaN</td>\n",
              "      <td>NaN</td>\n",
              "      <td>NaN</td>\n",
              "      <td>NaN</td>\n",
              "      <td>NaN</td>\n",
              "    </tr>\n",
              "    <tr>\n",
              "      <th>1</th>\n",
              "      <td>2022-12-17</td>\n",
              "      <td>margot-bon-51a04624</td>\n",
              "      <td>Margot Bon</td>\n",
              "      <td>The Randstad, Netherlands</td>\n",
              "      <td>NL</td>\n",
              "      <td>EU</td>\n",
              "      <td>gemeente-utrecht</td>\n",
              "      <td>Gemeente Utrecht</td>\n",
              "      <td>Communicatieadviseur Corporate &amp; Strategie Gem...</td>\n",
              "      <td>NaN</td>\n",
              "      <td>...</td>\n",
              "      <td>[{\"profile_link\":\"https://nl.linkedin.com/in/j...</td>\n",
              "      <td>NaN</td>\n",
              "      <td>[{\"degree\":\"Scrum en Agile werken\",\"end_year\":...</td>\n",
              "      <td>https://static.licdn.com/sc/h/244xhbkr7g40x6bs...</td>\n",
              "      <td>[{\"subtitle\":\"Professional working proficiency...</td>\n",
              "      <td>[{\"meta\":\"Issued Jun 2013\",\"subtitle\":\"Van der...</td>\n",
              "      <td>Menno H. Poort “Ik werk al jaren prettig met M...</td>\n",
              "      <td>2.0</td>\n",
              "      <td>[{\"cause\":\"\",\"duration\":\"Sep 2010 Jul 2020 9 y...</td>\n",
              "      <td>NaN</td>\n",
              "    </tr>\n",
              "    <tr>\n",
              "      <th>2</th>\n",
              "      <td>2023-05-17</td>\n",
              "      <td>mike-dean-8509a193</td>\n",
              "      <td>Mike Dean</td>\n",
              "      <td>England, United Kingdom</td>\n",
              "      <td>UK</td>\n",
              "      <td>NaN</td>\n",
              "      <td>network-rail</td>\n",
              "      <td>Network Rail</td>\n",
              "      <td>Network Data Manager at Network Rail</td>\n",
              "      <td>NaN</td>\n",
              "      <td>...</td>\n",
              "      <td>[{\"profile_link\":\"https://uk.linkedin.com/in/g...</td>\n",
              "      <td>Brighton Polytechnic</td>\n",
              "      <td>[{\"degree\":\"2:2\",\"end_year\":\"1991\",\"field\":\"El...</td>\n",
              "      <td>https://media.licdn.com/dms/image/C4D03AQHLj-Z...</td>\n",
              "      <td>NaN</td>\n",
              "      <td>NaN</td>\n",
              "      <td>NaN</td>\n",
              "      <td>NaN</td>\n",
              "      <td>NaN</td>\n",
              "      <td>NaN</td>\n",
              "    </tr>\n",
              "    <tr>\n",
              "      <th>3</th>\n",
              "      <td>2022-05-29</td>\n",
              "      <td>giovanna-panarella-99a0a4167</td>\n",
              "      <td>Giovanna Panarella</td>\n",
              "      <td>Avellino, Campania, Italy</td>\n",
              "      <td>IT</td>\n",
              "      <td>EU</td>\n",
              "      <td>NaN</td>\n",
              "      <td>Freelance</td>\n",
              "      <td>Architetto (Freelance)</td>\n",
              "      <td>500.0</td>\n",
              "      <td>...</td>\n",
              "      <td>[{\"profile_link\":\"https://it.linkedin.com/in/e...</td>\n",
              "      <td>Università di Camerino</td>\n",
              "      <td>[{\"degree\":\"“Corso di aggiornamento profession...</td>\n",
              "      <td>https://media-exp1.licdn.com/dms/image/C4D03AQ...</td>\n",
              "      <td>NaN</td>\n",
              "      <td>NaN</td>\n",
              "      <td>NaN</td>\n",
              "      <td>NaN</td>\n",
              "      <td>[{\"cause\":\"Arts and Culture\",\"duration\":\"Jan 2...</td>\n",
              "      <td>NaN</td>\n",
              "    </tr>\n",
              "    <tr>\n",
              "      <th>4</th>\n",
              "      <td>2022-12-06</td>\n",
              "      <td>steve-latimer-3364327</td>\n",
              "      <td>Steve Latimer</td>\n",
              "      <td>Ontario, Canada</td>\n",
              "      <td>CA</td>\n",
              "      <td>NaN</td>\n",
              "      <td>mid-range-computer-group-inc.</td>\n",
              "      <td>Mid-Range Computer Group Inc.</td>\n",
              "      <td>Senior Account Executive at Mid-Range Computer...</td>\n",
              "      <td>NaN</td>\n",
              "      <td>...</td>\n",
              "      <td>[{\"profile_link\":\"https://ca.linkedin.com/in/d...</td>\n",
              "      <td>St. Michael's College School</td>\n",
              "      <td>[{\"degree\":\"\",\"end_year\":\"1978\",\"field\":\"\",\"me...</td>\n",
              "      <td>NaN</td>\n",
              "      <td>NaN</td>\n",
              "      <td>[{\"meta\":\"Issued Jan 2022 See credential\",\"sub...</td>\n",
              "      <td>Blake Reeves “If I was a customer, I would wan...</td>\n",
              "      <td>1.0</td>\n",
              "      <td>NaN</td>\n",
              "      <td>NaN</td>\n",
              "    </tr>\n",
              "  </tbody>\n",
              "</table>\n",
              "<p>5 rows × 26 columns</p>\n",
              "</div>\n",
              "    <div class=\"colab-df-buttons\">\n",
              "\n",
              "  <div class=\"colab-df-container\">\n",
              "    <button class=\"colab-df-convert\" onclick=\"convertToInteractive('df-b3020182-28f2-4fc1-83b2-58b9a38f2cd4')\"\n",
              "            title=\"Convert this dataframe to an interactive table.\"\n",
              "            style=\"display:none;\">\n",
              "\n",
              "  <svg xmlns=\"http://www.w3.org/2000/svg\" height=\"24px\" viewBox=\"0 -960 960 960\">\n",
              "    <path d=\"M120-120v-720h720v720H120Zm60-500h600v-160H180v160Zm220 220h160v-160H400v160Zm0 220h160v-160H400v160ZM180-400h160v-160H180v160Zm440 0h160v-160H620v160ZM180-180h160v-160H180v160Zm440 0h160v-160H620v160Z\"/>\n",
              "  </svg>\n",
              "    </button>\n",
              "\n",
              "  <style>\n",
              "    .colab-df-container {\n",
              "      display:flex;\n",
              "      gap: 12px;\n",
              "    }\n",
              "\n",
              "    .colab-df-convert {\n",
              "      background-color: #E8F0FE;\n",
              "      border: none;\n",
              "      border-radius: 50%;\n",
              "      cursor: pointer;\n",
              "      display: none;\n",
              "      fill: #1967D2;\n",
              "      height: 32px;\n",
              "      padding: 0 0 0 0;\n",
              "      width: 32px;\n",
              "    }\n",
              "\n",
              "    .colab-df-convert:hover {\n",
              "      background-color: #E2EBFA;\n",
              "      box-shadow: 0px 1px 2px rgba(60, 64, 67, 0.3), 0px 1px 3px 1px rgba(60, 64, 67, 0.15);\n",
              "      fill: #174EA6;\n",
              "    }\n",
              "\n",
              "    .colab-df-buttons div {\n",
              "      margin-bottom: 4px;\n",
              "    }\n",
              "\n",
              "    [theme=dark] .colab-df-convert {\n",
              "      background-color: #3B4455;\n",
              "      fill: #D2E3FC;\n",
              "    }\n",
              "\n",
              "    [theme=dark] .colab-df-convert:hover {\n",
              "      background-color: #434B5C;\n",
              "      box-shadow: 0px 1px 3px 1px rgba(0, 0, 0, 0.15);\n",
              "      filter: drop-shadow(0px 1px 2px rgba(0, 0, 0, 0.3));\n",
              "      fill: #FFFFFF;\n",
              "    }\n",
              "  </style>\n",
              "\n",
              "    <script>\n",
              "      const buttonEl =\n",
              "        document.querySelector('#df-b3020182-28f2-4fc1-83b2-58b9a38f2cd4 button.colab-df-convert');\n",
              "      buttonEl.style.display =\n",
              "        google.colab.kernel.accessAllowed ? 'block' : 'none';\n",
              "\n",
              "      async function convertToInteractive(key) {\n",
              "        const element = document.querySelector('#df-b3020182-28f2-4fc1-83b2-58b9a38f2cd4');\n",
              "        const dataTable =\n",
              "          await google.colab.kernel.invokeFunction('convertToInteractive',\n",
              "                                                    [key], {});\n",
              "        if (!dataTable) return;\n",
              "\n",
              "        const docLinkHtml = 'Like what you see? Visit the ' +\n",
              "          '<a target=\"_blank\" href=https://colab.research.google.com/notebooks/data_table.ipynb>data table notebook</a>'\n",
              "          + ' to learn more about interactive tables.';\n",
              "        element.innerHTML = '';\n",
              "        dataTable['output_type'] = 'display_data';\n",
              "        await google.colab.output.renderOutput(dataTable, element);\n",
              "        const docLink = document.createElement('div');\n",
              "        docLink.innerHTML = docLinkHtml;\n",
              "        element.appendChild(docLink);\n",
              "      }\n",
              "    </script>\n",
              "  </div>\n",
              "\n",
              "\n",
              "<div id=\"df-e3dec34c-fa5a-4310-8598-33cdc2fc7c23\">\n",
              "  <button class=\"colab-df-quickchart\" onclick=\"quickchart('df-e3dec34c-fa5a-4310-8598-33cdc2fc7c23')\"\n",
              "            title=\"Suggest charts\"\n",
              "            style=\"display:none;\">\n",
              "\n",
              "<svg xmlns=\"http://www.w3.org/2000/svg\" height=\"24px\"viewBox=\"0 0 24 24\"\n",
              "     width=\"24px\">\n",
              "    <g>\n",
              "        <path d=\"M19 3H5c-1.1 0-2 .9-2 2v14c0 1.1.9 2 2 2h14c1.1 0 2-.9 2-2V5c0-1.1-.9-2-2-2zM9 17H7v-7h2v7zm4 0h-2V7h2v10zm4 0h-2v-4h2v4z\"/>\n",
              "    </g>\n",
              "</svg>\n",
              "  </button>\n",
              "\n",
              "<style>\n",
              "  .colab-df-quickchart {\n",
              "      --bg-color: #E8F0FE;\n",
              "      --fill-color: #1967D2;\n",
              "      --hover-bg-color: #E2EBFA;\n",
              "      --hover-fill-color: #174EA6;\n",
              "      --disabled-fill-color: #AAA;\n",
              "      --disabled-bg-color: #DDD;\n",
              "  }\n",
              "\n",
              "  [theme=dark] .colab-df-quickchart {\n",
              "      --bg-color: #3B4455;\n",
              "      --fill-color: #D2E3FC;\n",
              "      --hover-bg-color: #434B5C;\n",
              "      --hover-fill-color: #FFFFFF;\n",
              "      --disabled-bg-color: #3B4455;\n",
              "      --disabled-fill-color: #666;\n",
              "  }\n",
              "\n",
              "  .colab-df-quickchart {\n",
              "    background-color: var(--bg-color);\n",
              "    border: none;\n",
              "    border-radius: 50%;\n",
              "    cursor: pointer;\n",
              "    display: none;\n",
              "    fill: var(--fill-color);\n",
              "    height: 32px;\n",
              "    padding: 0;\n",
              "    width: 32px;\n",
              "  }\n",
              "\n",
              "  .colab-df-quickchart:hover {\n",
              "    background-color: var(--hover-bg-color);\n",
              "    box-shadow: 0 1px 2px rgba(60, 64, 67, 0.3), 0 1px 3px 1px rgba(60, 64, 67, 0.15);\n",
              "    fill: var(--button-hover-fill-color);\n",
              "  }\n",
              "\n",
              "  .colab-df-quickchart-complete:disabled,\n",
              "  .colab-df-quickchart-complete:disabled:hover {\n",
              "    background-color: var(--disabled-bg-color);\n",
              "    fill: var(--disabled-fill-color);\n",
              "    box-shadow: none;\n",
              "  }\n",
              "\n",
              "  .colab-df-spinner {\n",
              "    border: 2px solid var(--fill-color);\n",
              "    border-color: transparent;\n",
              "    border-bottom-color: var(--fill-color);\n",
              "    animation:\n",
              "      spin 1s steps(1) infinite;\n",
              "  }\n",
              "\n",
              "  @keyframes spin {\n",
              "    0% {\n",
              "      border-color: transparent;\n",
              "      border-bottom-color: var(--fill-color);\n",
              "      border-left-color: var(--fill-color);\n",
              "    }\n",
              "    20% {\n",
              "      border-color: transparent;\n",
              "      border-left-color: var(--fill-color);\n",
              "      border-top-color: var(--fill-color);\n",
              "    }\n",
              "    30% {\n",
              "      border-color: transparent;\n",
              "      border-left-color: var(--fill-color);\n",
              "      border-top-color: var(--fill-color);\n",
              "      border-right-color: var(--fill-color);\n",
              "    }\n",
              "    40% {\n",
              "      border-color: transparent;\n",
              "      border-right-color: var(--fill-color);\n",
              "      border-top-color: var(--fill-color);\n",
              "    }\n",
              "    60% {\n",
              "      border-color: transparent;\n",
              "      border-right-color: var(--fill-color);\n",
              "    }\n",
              "    80% {\n",
              "      border-color: transparent;\n",
              "      border-right-color: var(--fill-color);\n",
              "      border-bottom-color: var(--fill-color);\n",
              "    }\n",
              "    90% {\n",
              "      border-color: transparent;\n",
              "      border-bottom-color: var(--fill-color);\n",
              "    }\n",
              "  }\n",
              "</style>\n",
              "\n",
              "  <script>\n",
              "    async function quickchart(key) {\n",
              "      const quickchartButtonEl =\n",
              "        document.querySelector('#' + key + ' button');\n",
              "      quickchartButtonEl.disabled = true;  // To prevent multiple clicks.\n",
              "      quickchartButtonEl.classList.add('colab-df-spinner');\n",
              "      try {\n",
              "        const charts = await google.colab.kernel.invokeFunction(\n",
              "            'suggestCharts', [key], {});\n",
              "      } catch (error) {\n",
              "        console.error('Error during call to suggestCharts:', error);\n",
              "      }\n",
              "      quickchartButtonEl.classList.remove('colab-df-spinner');\n",
              "      quickchartButtonEl.classList.add('colab-df-quickchart-complete');\n",
              "    }\n",
              "    (() => {\n",
              "      let quickchartButtonEl =\n",
              "        document.querySelector('#df-e3dec34c-fa5a-4310-8598-33cdc2fc7c23 button');\n",
              "      quickchartButtonEl.style.display =\n",
              "        google.colab.kernel.accessAllowed ? 'block' : 'none';\n",
              "    })();\n",
              "  </script>\n",
              "</div>\n",
              "\n",
              "    </div>\n",
              "  </div>\n"
            ]
          },
          "metadata": {},
          "execution_count": 24
        }
      ]
    },
    {
      "cell_type": "code",
      "source": [
        "sns.heatmap(df.isnull(),yticklabels=False,cbar=False)"
      ],
      "metadata": {
        "colab": {
          "base_uri": "https://localhost:8080/",
          "height": 643
        },
        "id": "t1L8rCyOTgA0",
        "outputId": "2a18804c-65c9-4f6e-94ca-39831f71cae4"
      },
      "execution_count": null,
      "outputs": [
        {
          "output_type": "execute_result",
          "data": {
            "text/plain": [
              "<Axes: >"
            ]
          },
          "metadata": {},
          "execution_count": 25
        },
        {
          "output_type": "display_data",
          "data": {
            "text/plain": [
              "<Figure size 640x480 with 1 Axes>"
            ],
            "image/png": "[encoded data removed]"
          },
          "metadata": {}
        }
      ]
    },
    {
      "cell_type": "code",
      "source": [
        "columns = df.columns\n",
        "print(columns)"
      ],
      "metadata": {
        "colab": {
          "base_uri": "https://localhost:8080/"
        },
        "id": "04dSNTGiTr9t",
        "outputId": "69c65608-772d-4299-c6e0-2f032ad41d9a"
      },
      "execution_count": null,
      "outputs": [
        {
          "output_type": "stream",
          "name": "stdout",
          "text": [
            "Index(['timestamp', 'id', 'name', 'city', 'country_code', 'region',\n",
            "       'current_company:company_id', 'current_company:name', 'position',\n",
            "       'following', 'about', 'posts', 'groups', 'current_company',\n",
            "       'experience', 'url', 'people_also_viewed', 'educations_details',\n",
            "       'education', 'avatar', 'languages', 'certifications', 'recommendations',\n",
            "       'recommendations_count', 'volunteer_experience', 'сourses'],\n",
            "      dtype='object')\n"
          ]
        }
      ]
    },
    {
      "cell_type": "code",
      "source": [
        "df.drop(['id','timestamp','posts','avatar','region','current_company:company_id'\n",
        ",'following','groups','people_also_viewed','recommendations','recommendations_count','url',\n",
        "         'current_company','about','educations_details','volunteer_experience'],axis=1,inplace=True)"
      ],
      "metadata": {
        "id": "edBOWTkgEm0e"
      },
      "execution_count": null,
      "outputs": []
    },
    {
      "cell_type": "code",
      "source": [
        "df = df.dropna(subset=['city','country_code'])"
      ],
      "metadata": {
        "id": "tc7GWEB4Exei"
      },
      "execution_count": null,
      "outputs": []
    },
    {
      "cell_type": "code",
      "source": [
        "df.head()"
      ],
      "metadata": {
        "colab": {
          "base_uri": "https://localhost:8080/",
          "height": 417
        },
        "id": "w6QRzBhOFDAT",
        "outputId": "0dfebd33-4d76-48ba-982d-2dd49c5016cf"
      },
      "execution_count": null,
      "outputs": [
        {
          "output_type": "execute_result",
          "data": {
            "text/plain": [
              "                                     name                       city  \\\n",
              "0  Catherine Fitzpatrick (McIlkenny), B.A                     Canada   \n",
              "1                              Margot Bon  The Randstad, Netherlands   \n",
              "2                               Mike Dean    England, United Kingdom   \n",
              "3                      Giovanna Panarella  Avellino, Campania, Italy   \n",
              "4                           Steve Latimer            Ontario, Canada   \n",
              "\n",
              "  country_code           current_company:name  \\\n",
              "0           CA                            NaN   \n",
              "1           NL               Gemeente Utrecht   \n",
              "2           UK                   Network Rail   \n",
              "3           IT                      Freelance   \n",
              "4           CA  Mid-Range Computer Group Inc.   \n",
              "\n",
              "                                            position  \\\n",
              "0  Snr Business Analyst at Emploi et Développemen...   \n",
              "1  Communicatieadviseur Corporate & Strategie Gem...   \n",
              "2               Network Data Manager at Network Rail   \n",
              "3                             Architetto (Freelance)   \n",
              "4  Senior Account Executive at Mid-Range Computer...   \n",
              "\n",
              "                                          experience  \\\n",
              "0                                                NaN   \n",
              "1  [{\"company\":\"Gemeente Utrecht\",\"company_id\":\"g...   \n",
              "2  [{\"company\":\"Network Rail\",\"company_id\":\"netwo...   \n",
              "3  [{\"company\":\"Freelance\",\"company_id\":null,\"loc...   \n",
              "4  [{\"company\":\"Mid-Range Computer Group Inc.\",\"c...   \n",
              "\n",
              "                                           education  \\\n",
              "0  [{\"degree\":\"Bachelor of Arts (B.A.) Honours\",\"...   \n",
              "1  [{\"degree\":\"Scrum en Agile werken\",\"end_year\":...   \n",
              "2  [{\"degree\":\"2:2\",\"end_year\":\"1991\",\"field\":\"El...   \n",
              "3  [{\"degree\":\"“Corso di aggiornamento profession...   \n",
              "4  [{\"degree\":\"\",\"end_year\":\"1978\",\"field\":\"\",\"me...   \n",
              "\n",
              "                                           languages  \\\n",
              "0                                                NaN   \n",
              "1  [{\"subtitle\":\"Professional working proficiency...   \n",
              "2                                                NaN   \n",
              "3                                                NaN   \n",
              "4                                                NaN   \n",
              "\n",
              "                                      certifications сourses  \n",
              "0                                                NaN     NaN  \n",
              "1  [{\"meta\":\"Issued Jun 2013\",\"subtitle\":\"Van der...     NaN  \n",
              "2                                                NaN     NaN  \n",
              "3                                                NaN     NaN  \n",
              "4  [{\"meta\":\"Issued Jan 2022 See credential\",\"sub...     NaN  "
            ],
            "text/html": [
              "\n",
              "  <div id=\"df-701b1a6d-89c7-4b24-86a8-a3c6fda91ed8\" class=\"colab-df-container\">\n",
              "    <div>\n",
              "<style scoped>\n",
              "    .dataframe tbody tr th:only-of-type {\n",
              "        vertical-align: middle;\n",
              "    }\n",
              "\n",
              "    .dataframe tbody tr th {\n",
              "        vertical-align: top;\n",
              "    }\n",
              "\n",
              "    .dataframe thead th {\n",
              "        text-align: right;\n",
              "    }\n",
              "</style>\n",
              "<table border=\"1\" class=\"dataframe\">\n",
              "  <thead>\n",
              "    <tr style=\"text-align: right;\">\n",
              "      <th></th>\n",
              "      <th>name</th>\n",
              "      <th>city</th>\n",
              "      <th>country_code</th>\n",
              "      <th>current_company:name</th>\n",
              "      <th>position</th>\n",
              "      <th>experience</th>\n",
              "      <th>education</th>\n",
              "      <th>languages</th>\n",
              "      <th>certifications</th>\n",
              "      <th>сourses</th>\n",
              "    </tr>\n",
              "  </thead>\n",
              "  <tbody>\n",
              "    <tr>\n",
              "      <th>0</th>\n",
              "      <td>Catherine Fitzpatrick (McIlkenny), B.A</td>\n",
              "      <td>Canada</td>\n",
              "      <td>CA</td>\n",
              "      <td>NaN</td>\n",
              "      <td>Snr Business Analyst at Emploi et Développemen...</td>\n",
              "      <td>NaN</td>\n",
              "      <td>[{\"degree\":\"Bachelor of Arts (B.A.) Honours\",\"...</td>\n",
              "      <td>NaN</td>\n",
              "      <td>NaN</td>\n",
              "      <td>NaN</td>\n",
              "    </tr>\n",
              "    <tr>\n",
              "      <th>1</th>\n",
              "      <td>Margot Bon</td>\n",
              "      <td>The Randstad, Netherlands</td>\n",
              "      <td>NL</td>\n",
              "      <td>Gemeente Utrecht</td>\n",
              "      <td>Communicatieadviseur Corporate &amp; Strategie Gem...</td>\n",
              "      <td>[{\"company\":\"Gemeente Utrecht\",\"company_id\":\"g...</td>\n",
              "      <td>[{\"degree\":\"Scrum en Agile werken\",\"end_year\":...</td>\n",
              "      <td>[{\"subtitle\":\"Professional working proficiency...</td>\n",
              "      <td>[{\"meta\":\"Issued Jun 2013\",\"subtitle\":\"Van der...</td>\n",
              "      <td>NaN</td>\n",
              "    </tr>\n",
              "    <tr>\n",
              "      <th>2</th>\n",
              "      <td>Mike Dean</td>\n",
              "      <td>England, United Kingdom</td>\n",
              "      <td>UK</td>\n",
              "      <td>Network Rail</td>\n",
              "      <td>Network Data Manager at Network Rail</td>\n",
              "      <td>[{\"company\":\"Network Rail\",\"company_id\":\"netwo...</td>\n",
              "      <td>[{\"degree\":\"2:2\",\"end_year\":\"1991\",\"field\":\"El...</td>\n",
              "      <td>NaN</td>\n",
              "      <td>NaN</td>\n",
              "      <td>NaN</td>\n",
              "    </tr>\n",
              "    <tr>\n",
              "      <th>3</th>\n",
              "      <td>Giovanna Panarella</td>\n",
              "      <td>Avellino, Campania, Italy</td>\n",
              "      <td>IT</td>\n",
              "      <td>Freelance</td>\n",
              "      <td>Architetto (Freelance)</td>\n",
              "      <td>[{\"company\":\"Freelance\",\"company_id\":null,\"loc...</td>\n",
              "      <td>[{\"degree\":\"“Corso di aggiornamento profession...</td>\n",
              "      <td>NaN</td>\n",
              "      <td>NaN</td>\n",
              "      <td>NaN</td>\n",
              "    </tr>\n",
              "    <tr>\n",
              "      <th>4</th>\n",
              "      <td>Steve Latimer</td>\n",
              "      <td>Ontario, Canada</td>\n",
              "      <td>CA</td>\n",
              "      <td>Mid-Range Computer Group Inc.</td>\n",
              "      <td>Senior Account Executive at Mid-Range Computer...</td>\n",
              "      <td>[{\"company\":\"Mid-Range Computer Group Inc.\",\"c...</td>\n",
              "      <td>[{\"degree\":\"\",\"end_year\":\"1978\",\"field\":\"\",\"me...</td>\n",
              "      <td>NaN</td>\n",
              "      <td>[{\"meta\":\"Issued Jan 2022 See credential\",\"sub...</td>\n",
              "      <td>NaN</td>\n",
              "    </tr>\n",
              "  </tbody>\n",
              "</table>\n",
              "</div>\n",
              "    <div class=\"colab-df-buttons\">\n",
              "\n",
              "  <div class=\"colab-df-container\">\n",
              "    <button class=\"colab-df-convert\" onclick=\"convertToInteractive('df-701b1a6d-89c7-4b24-86a8-a3c6fda91ed8')\"\n",
              "            title=\"Convert this dataframe to an interactive table.\"\n",
              "            style=\"display:none;\">\n",
              "\n",
              "  <svg xmlns=\"http://www.w3.org/2000/svg\" height=\"24px\" viewBox=\"0 -960 960 960\">\n",
              "    <path d=\"M120-120v-720h720v720H120Zm60-500h600v-160H180v160Zm220 220h160v-160H400v160Zm0 220h160v-160H400v160ZM180-400h160v-160H180v160Zm440 0h160v-160H620v160ZM180-180h160v-160H180v160Zm440 0h160v-160H620v160Z\"/>\n",
              "  </svg>\n",
              "    </button>\n",
              "\n",
              "  <style>\n",
              "    .colab-df-container {\n",
              "      display:flex;\n",
              "      gap: 12px;\n",
              "    }\n",
              "\n",
              "    .colab-df-convert {\n",
              "      background-color: #E8F0FE;\n",
              "      border: none;\n",
              "      border-radius: 50%;\n",
              "      cursor: pointer;\n",
              "      display: none;\n",
              "      fill: #1967D2;\n",
              "      height: 32px;\n",
              "      padding: 0 0 0 0;\n",
              "      width: 32px;\n",
              "    }\n",
              "\n",
              "    .colab-df-convert:hover {\n",
              "      background-color: #E2EBFA;\n",
              "      box-shadow: 0px 1px 2px rgba(60, 64, 67, 0.3), 0px 1px 3px 1px rgba(60, 64, 67, 0.15);\n",
              "      fill: #174EA6;\n",
              "    }\n",
              "\n",
              "    .colab-df-buttons div {\n",
              "      margin-bottom: 4px;\n",
              "    }\n",
              "\n",
              "    [theme=dark] .colab-df-convert {\n",
              "      background-color: #3B4455;\n",
              "      fill: #D2E3FC;\n",
              "    }\n",
              "\n",
              "    [theme=dark] .colab-df-convert:hover {\n",
              "      background-color: #434B5C;\n",
              "      box-shadow: 0px 1px 3px 1px rgba(0, 0, 0, 0.15);\n",
              "      filter: drop-shadow(0px 1px 2px rgba(0, 0, 0, 0.3));\n",
              "      fill: #FFFFFF;\n",
              "    }\n",
              "  </style>\n",
              "\n",
              "    <script>\n",
              "      const buttonEl =\n",
              "        document.querySelector('#df-701b1a6d-89c7-4b24-86a8-a3c6fda91ed8 button.colab-df-convert');\n",
              "      buttonEl.style.display =\n",
              "        google.colab.kernel.accessAllowed ? 'block' : 'none';\n",
              "\n",
              "      async function convertToInteractive(key) {\n",
              "        const element = document.querySelector('#df-701b1a6d-89c7-4b24-86a8-a3c6fda91ed8');\n",
              "        const dataTable =\n",
              "          await google.colab.kernel.invokeFunction('convertToInteractive',\n",
              "                                                    [key], {});\n",
              "        if (!dataTable) return;\n",
              "\n",
              "        const docLinkHtml = 'Like what you see? Visit the ' +\n",
              "          '<a target=\"_blank\" href=https://colab.research.google.com/notebooks/data_table.ipynb>data table notebook</a>'\n",
              "          + ' to learn more about interactive tables.';\n",
              "        element.innerHTML = '';\n",
              "        dataTable['output_type'] = 'display_data';\n",
              "        await google.colab.output.renderOutput(dataTable, element);\n",
              "        const docLink = document.createElement('div');\n",
              "        docLink.innerHTML = docLinkHtml;\n",
              "        element.appendChild(docLink);\n",
              "      }\n",
              "    </script>\n",
              "  </div>\n",
              "\n",
              "\n",
              "<div id=\"df-5624ac7b-b482-44f5-a897-5c404f8f1c72\">\n",
              "  <button class=\"colab-df-quickchart\" onclick=\"quickchart('df-5624ac7b-b482-44f5-a897-5c404f8f1c72')\"\n",
              "            title=\"Suggest charts\"\n",
              "            style=\"display:none;\">\n",
              "\n",
              "<svg xmlns=\"http://www.w3.org/2000/svg\" height=\"24px\"viewBox=\"0 0 24 24\"\n",
              "     width=\"24px\">\n",
              "    <g>\n",
              "        <path d=\"M19 3H5c-1.1 0-2 .9-2 2v14c0 1.1.9 2 2 2h14c1.1 0 2-.9 2-2V5c0-1.1-.9-2-2-2zM9 17H7v-7h2v7zm4 0h-2V7h2v10zm4 0h-2v-4h2v4z\"/>\n",
              "    </g>\n",
              "</svg>\n",
              "  </button>\n",
              "\n",
              "<style>\n",
              "  .colab-df-quickchart {\n",
              "      --bg-color: #E8F0FE;\n",
              "      --fill-color: #1967D2;\n",
              "      --hover-bg-color: #E2EBFA;\n",
              "      --hover-fill-color: #174EA6;\n",
              "      --disabled-fill-color: #AAA;\n",
              "      --disabled-bg-color: #DDD;\n",
              "  }\n",
              "\n",
              "  [theme=dark] .colab-df-quickchart {\n",
              "      --bg-color: #3B4455;\n",
              "      --fill-color: #D2E3FC;\n",
              "      --hover-bg-color: #434B5C;\n",
              "      --hover-fill-color: #FFFFFF;\n",
              "      --disabled-bg-color: #3B4455;\n",
              "      --disabled-fill-color: #666;\n",
              "  }\n",
              "\n",
              "  .colab-df-quickchart {\n",
              "    background-color: var(--bg-color);\n",
              "    border: none;\n",
              "    border-radius: 50%;\n",
              "    cursor: pointer;\n",
              "    display: none;\n",
              "    fill: var(--fill-color);\n",
              "    height: 32px;\n",
              "    padding: 0;\n",
              "    width: 32px;\n",
              "  }\n",
              "\n",
              "  .colab-df-quickchart:hover {\n",
              "    background-color: var(--hover-bg-color);\n",
              "    box-shadow: 0 1px 2px rgba(60, 64, 67, 0.3), 0 1px 3px 1px rgba(60, 64, 67, 0.15);\n",
              "    fill: var(--button-hover-fill-color);\n",
              "  }\n",
              "\n",
              "  .colab-df-quickchart-complete:disabled,\n",
              "  .colab-df-quickchart-complete:disabled:hover {\n",
              "    background-color: var(--disabled-bg-color);\n",
              "    fill: var(--disabled-fill-color);\n",
              "    box-shadow: none;\n",
              "  }\n",
              "\n",
              "  .colab-df-spinner {\n",
              "    border: 2px solid var(--fill-color);\n",
              "    border-color: transparent;\n",
              "    border-bottom-color: var(--fill-color);\n",
              "    animation:\n",
              "      spin 1s steps(1) infinite;\n",
              "  }\n",
              "\n",
              "  @keyframes spin {\n",
              "    0% {\n",
              "      border-color: transparent;\n",
              "      border-bottom-color: var(--fill-color);\n",
              "      border-left-color: var(--fill-color);\n",
              "    }\n",
              "    20% {\n",
              "      border-color: transparent;\n",
              "      border-left-color: var(--fill-color);\n",
              "      border-top-color: var(--fill-color);\n",
              "    }\n",
              "    30% {\n",
              "      border-color: transparent;\n",
              "      border-left-color: var(--fill-color);\n",
              "      border-top-color: var(--fill-color);\n",
              "      border-right-color: var(--fill-color);\n",
              "    }\n",
              "    40% {\n",
              "      border-color: transparent;\n",
              "      border-right-color: var(--fill-color);\n",
              "      border-top-color: var(--fill-color);\n",
              "    }\n",
              "    60% {\n",
              "      border-color: transparent;\n",
              "      border-right-color: var(--fill-color);\n",
              "    }\n",
              "    80% {\n",
              "      border-color: transparent;\n",
              "      border-right-color: var(--fill-color);\n",
              "      border-bottom-color: var(--fill-color);\n",
              "    }\n",
              "    90% {\n",
              "      border-color: transparent;\n",
              "      border-bottom-color: var(--fill-color);\n",
              "    }\n",
              "  }\n",
              "</style>\n",
              "\n",
              "  <script>\n",
              "    async function quickchart(key) {\n",
              "      const quickchartButtonEl =\n",
              "        document.querySelector('#' + key + ' button');\n",
              "      quickchartButtonEl.disabled = true;  // To prevent multiple clicks.\n",
              "      quickchartButtonEl.classList.add('colab-df-spinner');\n",
              "      try {\n",
              "        const charts = await google.colab.kernel.invokeFunction(\n",
              "            'suggestCharts', [key], {});\n",
              "      } catch (error) {\n",
              "        console.error('Error during call to suggestCharts:', error);\n",
              "      }\n",
              "      quickchartButtonEl.classList.remove('colab-df-spinner');\n",
              "      quickchartButtonEl.classList.add('colab-df-quickchart-complete');\n",
              "    }\n",
              "    (() => {\n",
              "      let quickchartButtonEl =\n",
              "        document.querySelector('#df-5624ac7b-b482-44f5-a897-5c404f8f1c72 button');\n",
              "      quickchartButtonEl.style.display =\n",
              "        google.colab.kernel.accessAllowed ? 'block' : 'none';\n",
              "    })();\n",
              "  </script>\n",
              "</div>\n",
              "\n",
              "    </div>\n",
              "  </div>\n"
            ]
          },
          "metadata": {},
          "execution_count": 29
        }
      ]
    },
    {
      "cell_type": "code",
      "source": [
        "df['experience'][1]"
      ],
      "metadata": {
        "colab": {
          "base_uri": "https://localhost:8080/",
          "height": 128
        },
        "id": "y8wMuvHRZLL_",
        "outputId": "021aeb50-0569-4373-dac4-69bbe7b3b568"
      },
      "execution_count": null,
      "outputs": [
        {
          "output_type": "execute_result",
          "data": {
            "text/plain": [
              "'[{\"company\":\"Gemeente Utrecht\",\"company_id\":\"gemeente-utrecht\",\"industry\":\"Government Administration\",\"location\":\"Utrecht, Netherlands\",\"positions\":[{\"description\":\"Bijdragen aan de positionering en profilering van Gemeente Utrecht als stad van Gezond Stedelijk Leven voor Iedereen. Verder ontwikkelen Corporate Communicatie (afdeling) en Corporate Story. Opzetten en uitvoeren van (interne) communicatiestrategie, plan en middelen. Versterken communicatiekracht van de organisatie. Communicatieadviseur voor interne- en corporate projecten o.a. Arbeidsmarkt Campagne, nieuw intranet, talkshow Studio030, DUS, De Utrechtse Standaard Bijdragen aan de positionering en profilering van Gemeente Utrecht als stad van Gezond Stedelijk Leven voor Iedereen. Verder ontwikkelen Corporate Communicatie (afdeling) en Corporate Story. Opzetten en uitvoeren van (interne) communicatiestrategie, plan en middelen. Versterken communicatiekracht van de organisatie. Communicatieadviseur voor interne- en corporate projecten o.a. Arbeidsmarkt Campagne, nieuw intranet, talkshow Studio030, DUS, De Utrechtse Standaard\",\"duration\":\"May 2022 - Present 8 months\",\"duration_short\":\"8 months\",\"end_date\":\"Present\",\"start_date\":\"May 2022\",\"subtitle\":\"Gemeente Utrecht\",\"title\":\"Communicatieadviseur Corporate & Strategie\"}],\"url\":\"https://www.linkedin.com/company/gemeente-utrecht\"},{\"company\":\"Sterk techniekonderwijs\",\"company_id\":\"sterktechniekonderwijs\",\"location\":\"\",\"positions\":[{\"description\":\"• Communicatie advies• Communicatieplan opstellen en realiseren• Ontwikkelen eigen huisstijl en website met externe vormgevers en webbouwers• Contentcreatie • Communicatie advies• Communicatieplan opstellen en realiseren• Ontwikkelen eigen huisstijl en website met externe vormgevers en webbouwers• Contentcreatie\",\"duration\":\"Jul 2019 Jun 2022 3 years\",\"duration_short\":\"3 years\",\"end_date\":\"Jun 2022\",\"start_date\":\"Jul 2019\",\"subtitle\":\"Sterk techniekonderwijs\",\"title\":\"Communicatieadviseur Sterk Techniekonderwijs Samenwerking regio Woerden-IJsselstein\"}],\"url\":\"https://www.linkedin.com/company/sterktechniekonderwijs\"},{\"company\":\"ROC Midden Nederland\",\"company_id\":\"roc-midden-nederland\",\"location\":null,\"positions\":[{\"description\":\"Als senior marketingcommunicatie adviseur lever ik een grote bijdrage aan de positionering en profilering van vier mbo techniekcolleges van ROC Midden Nederland. Ik werk actief mee aan de ontwikkeling en profilering van de Tech Campus Nieuwegein en de vakcentra. Waaronder de positionering van het nieuwe technisch Maak- en kenniscentrum metaal: MAKE Center. Ik lever strategisch communicatieadvies en ben de gesprekspartner van het management als het gaat om in- en externe communicatievraagstukken. Ik realiseer hiervoor marketingcommunicatieplannen en de totstandkoming van diverse communicatiemiddelen. Samen met mijn clusterteam zet ik actief in op werving. We maken o.a. content met impact, werken aan goede samenwerking met VO en de regio en leveren effectieve marketinginzichten. Dankzij de nieuwe SharePoint community en trainingen bevorderen we de communicatiekracht van de campus. Ook zetten we mooie relatie-en wervingsevents neer. Ik neem deel aan het netwerk Diversiteit dat zich hardmaakt voor meer diversiteit op de Tech Campus.\",\"duration\":\"Oct 2014 Jun 2022 7 years 9 months\",\"duration_short\":\"7 years 9 months\",\"end_date\":\"Jun 2022\",\"start_date\":\"Oct 2014\",\"subtitle\":\"ROC Midden Nederland\",\"title\":\"Senior Marketingcommunicatieadviseur Techniek Colleges en Tech Campus Nieuwegein\"},{\"description\":\"Projectleider Opening Tech Campus & Werkbezoek Zijne Majesteit de Koning. #TechCampusBruist\",\"duration\":\"Nov 2018 Jan 2019 3 months\",\"duration_short\":\"3 months\",\"end_date\":\"Jan 2019\",\"start_date\":\"Nov 2018\",\"subtitle\":\"ROC Midden Nederland\",\"title\":\"Projectleider\"},{\"description\":\"• Open dag campagnes (on-en offline) coördineren• Coördinatie open dagen communicatie en organisatie• Coördinatie wervingslijn (on-en offline)• Communicatieadvies geven en plannen opstellen• Realisatie communicatieplannen en middelen • Redactie en webredactie• Organisatie van open dagen, beurzen en evenementen• Implementatie Intranet voor sector\",\"duration\":\"Aug 2002 Oct 2014 12 years 3 months\",\"duration_short\":\"12 years 3 months\",\"end_date\":\"Oct 2014\",\"start_date\":\"Aug 2002\",\"subtitle\":\"ROC Midden Nederland\",\"title\":\"Marketingcommunicatie Medewerker, Senior M&C Medewerker, Adviseur Marketing & Communicatie\"}],\"url\":\"https://www.linkedin.com/company/roc-midden-nederland\"},{\"company\":\"Atos Consulting\",\"company_id\":\"atos\",\"location\":\"Utrecht Area, Netherlands\",\"positions\":[{\"description\":\"• Verpakken van consultancy adviezen in aantrekkelijk vormgegeven rapport, ppt, infographic, etc.• Het vervaardigen of verfraaien van PowerPoint presentaties volgens huisstijl.• Het ontwerpen van projectlogo’s, illustraties of graphics.• Contacten onderhouden met consultants en repro-afdeling.• Controleren en redigeren van presentaties en documenten.• Het ontwikkelen en faciliteren van een PowerPoint training voor medewerkers. • Verpakken van consultancy adviezen in aantrekkelijk vormgegeven rapport, ppt, infographic, etc.• Het vervaardigen of verfraaien van PowerPoint presentaties volgens huisstijl.• Het ontwerpen van projectlogo’s, illustraties of graphics.• Contacten onderhouden met consultants en repro-afdeling.• Controleren en redigeren van presentaties en documenten.• Het ontwikkelen en faciliteren van een PowerPoint training voor medewerkers.\",\"duration\":\"Sep 1998 Sep 2002 4 years 1 month\",\"duration_short\":\"4 years 1 month\",\"end_date\":\"Sep 2002\",\"start_date\":\"Sep 1998\",\"subtitle\":\"Atos Consulting\",\"title\":\"Graphic Artist\"}],\"url\":\"https://www.linkedin.com/company/atos\"},{\"company\":\"VELUX\",\"company_id\":\"velux\",\"location\":\"De Meern\",\"positions\":[{\"description\":\"• Verantwoordelijk voor de inhoud van het relatiemagazine “VELUX Nieuws”.• Lay-out, tekstschrijven, fotografie en het afnemen van interviews.• Medeverantwoordelijk voor de invulling van het personeelsblad.• Verzorgen van Direct mail aan diverse doelgroepen van VELUX. • Organiseren van deelname aan publieks- en vakbeurzen / invulling van de VELUX-stand.• Inbouwstructies vertalen Engels-Nederlands.• Inkoop en beheer relatiegeschenken. • Verantwoordelijk voor de inhoud van het relatiemagazine “VELUX Nieuws”.• Lay-out, tekstschrijven, fotografie en het afnemen van interviews.• Medeverantwoordelijk voor de invulling van het personeelsblad.• Verzorgen van Direct mail aan diverse doelgroepen van VELUX. • Organiseren van deelname aan publieks- en vakbeurzen / invulling van de VELUX-stand.• Inbouwstructies vertalen Engels-Nederlands.• Inkoop en beheer relatiegeschenken.\",\"duration\":\"1996 1998 2 years\",\"duration_short\":\"2 years\",\"end_date\":\"1998\",\"start_date\":\"1996\",\"subtitle\":\"VELUX\",\"title\":\"Communicatiemedewerker\"}],\"url\":\"https://www.linkedin.com/company/velux\"}]'"
            ],
            "application/vnd.google.colaboratory.intrinsic+json": {
              "type": "string"
            }
          },
          "metadata": {},
          "execution_count": 30
        }
      ]
    },
    {
      "cell_type": "code",
      "source": [
        "df['current_company:name'].fillna('Unemployed', inplace=True)\n",
        "df['position'].fillna('Unemployed', inplace=True)\n",
        "df.experience.fillna(\"\",inplace=True)"
      ],
      "metadata": {
        "id": "65FRmnl3Gu4I"
      },
      "execution_count": null,
      "outputs": []
    },
    {
      "cell_type": "code",
      "source": [
        "# experience = [ {'company':'Google', 'positions' : [  {'title':'SDE', 'duration_short': '3 yrs'},  {}  ]    } , {}, {}, {}]\n",
        "# res = [ {'company':'','position':'', 'duration':'' }, {'company':'google','position':'SDE', 'duration':'3 yrs'  }, { } ]"
      ],
      "metadata": {
        "id": "CadekKlUdJ4m"
      },
      "execution_count": null,
      "outputs": []
    },
    {
      "cell_type": "code",
      "source": [
        "def experience_filter(experience):\n",
        "  if experience is not None and experience != \"\":\n",
        "    items = json.loads(experience)\n",
        "    tot_companies = []\n",
        "    for company in items:\n",
        "      company_dict = {}\n",
        "      for k,value in company.items():\n",
        "        if k == 'company':\n",
        "          company_dict[k] = value\n",
        "        elif k == 'positions':\n",
        "          if 'title' in value[0]:\n",
        "            company_dict['position'] = value[0]['title']\n",
        "            if 'duration_short' in value[0]:\n",
        "              company_dict['duration'] = value[0]['duration_short']\n",
        "            else:\n",
        "              company_dict['duration'] = 'NA'\n",
        "          else:\n",
        "            company_dict['position'] = 'NA'\n",
        "      tot_companies.append(company_dict)\n",
        "      return tot_companies\n",
        "  else:\n",
        "    return []\n",
        "\n",
        "df['experience'] = df['experience'].apply(lambda x: experience_filter(x) if pd.notnull(x) else x)"
      ],
      "metadata": {
        "id": "d2naQIbIJ9CX"
      },
      "execution_count": null,
      "outputs": []
    },
    {
      "cell_type": "code",
      "source": [
        "df.experience[1]"
      ],
      "metadata": {
        "colab": {
          "base_uri": "https://localhost:8080/"
        },
        "id": "-8m9bKYliUsQ",
        "outputId": "2c33d8c8-be71-4a4a-81a0-bf3eebd4fd3b"
      },
      "execution_count": null,
      "outputs": [
        {
          "output_type": "execute_result",
          "data": {
            "text/plain": [
              "[{'company': 'Gemeente Utrecht',\n",
              "  'position': 'Communicatieadviseur Corporate & Strategie',\n",
              "  'duration': '8 months'}]"
            ]
          },
          "metadata": {},
          "execution_count": 34
        }
      ]
    },
    {
      "cell_type": "code",
      "source": [
        "def education_filter(education):\n",
        "  if education is not None:\n",
        "    items = json.loads(education)\n",
        "    tot_education = []\n",
        "    for education in items:\n",
        "      education_dict = {}\n",
        "      for k,value in education.items():\n",
        "        if k == 'degree':\n",
        "          education_dict[k] = value\n",
        "        elif k == 'field':\n",
        "            education_dict['skills'] = value\n",
        "      tot_education.append(education_dict)\n",
        "    return tot_education\n",
        "  else:\n",
        "    return []\n",
        "\n",
        "df['education'] = df['education'].apply(lambda x: education_filter(x) if pd.notnull(x) else x)"
      ],
      "metadata": {
        "id": "1CKVvLtvX9IH"
      },
      "execution_count": null,
      "outputs": []
    },
    {
      "cell_type": "code",
      "source": [
        "df.education[1]"
      ],
      "metadata": {
        "colab": {
          "base_uri": "https://localhost:8080/"
        },
        "id": "2LU_neq_inWa",
        "outputId": "d75a7b91-d825-484a-df95-e546ffed3502"
      },
      "execution_count": null,
      "outputs": [
        {
          "output_type": "execute_result",
          "data": {
            "text/plain": [
              "[{'degree': 'Scrum en Agile werken', 'skills': ''},\n",
              " {'degree': 'Basiscursus', 'skills': 'NT1 en NT2'},\n",
              " {'degree': 'Persoonlijke effectiviteit & Verandermanagement', 'skills': ''},\n",
              " {'degree': \"Bachelor's degree\", 'skills': 'Senior Communicatieprofessional'},\n",
              " {'degree': 'Bachelor', 'skills': 'Marketing, Communication, Design'},\n",
              " {'degree': 'VWO',\n",
              "  'skills': 'English, French, Dutch, German, Art, History, Math and Economics'}]"
            ]
          },
          "metadata": {},
          "execution_count": 36
        }
      ]
    },
    {
      "cell_type": "code",
      "source": [
        "def language_filter(language):\n",
        "  if language is not None:\n",
        "    items = json.loads(language)\n",
        "    tot_langugae = []\n",
        "    for language in items:\n",
        "      for k,value in language.items():\n",
        "        if k == 'title':\n",
        "          tot_langugae.append(value)\n",
        "    return tot_langugae\n",
        "  else:\n",
        "    return []\n",
        "\n",
        "df['languages'] = df['languages'].apply(lambda x: language_filter(x) if pd.notnull(x) else x)"
      ],
      "metadata": {
        "id": "ii2kXLDPd5kq"
      },
      "execution_count": null,
      "outputs": []
    },
    {
      "cell_type": "code",
      "source": [
        "df.languages[1]"
      ],
      "metadata": {
        "colab": {
          "base_uri": "https://localhost:8080/"
        },
        "id": "iCD3bLO_ixsq",
        "outputId": "8ee4d8ec-05a7-4e38-c273-64df9c9904b3"
      },
      "execution_count": null,
      "outputs": [
        {
          "output_type": "execute_result",
          "data": {
            "text/plain": [
              "['English', 'German', 'French', 'Dutch']"
            ]
          },
          "metadata": {},
          "execution_count": 38
        }
      ]
    },
    {
      "cell_type": "code",
      "source": [
        "def certification_filter(certification):\n",
        "  if certification is not None:\n",
        "    items = json.loads(certification)\n",
        "    tot_certificates = []\n",
        "    for certification in items:\n",
        "      for k,value in certification.items():\n",
        "        if k == 'title':\n",
        "          tot_certificates.append(value)\n",
        "    return tot_certificates\n",
        "  else:\n",
        "    return []\n",
        "\n",
        "df['certifications'] = df['certifications'].apply(lambda x: certification_filter(x) if pd.notnull(x) else x)"
      ],
      "metadata": {
        "id": "dZks03bXmiUY"
      },
      "execution_count": null,
      "outputs": []
    },
    {
      "cell_type": "code",
      "source": [
        "df.certifications[1]"
      ],
      "metadata": {
        "colab": {
          "base_uri": "https://localhost:8080/"
        },
        "id": "5CVpYWmUjCXQ",
        "outputId": "b6b0fe10-5c29-4ce2-dac0-e8676b35b36d"
      },
      "execution_count": null,
      "outputs": [
        {
          "output_type": "execute_result",
          "data": {
            "text/plain": [
              "['Senior Communicatieprofessional C (BNP4)']"
            ]
          },
          "metadata": {},
          "execution_count": 40
        }
      ]
    },
    {
      "cell_type": "code",
      "source": [
        "def courses_filter(courses):\n",
        "  if courses is not None:\n",
        "    items = json.loads(courses)\n",
        "    tot_courses = []\n",
        "    for courses in items:\n",
        "      for k,value in courses.items():\n",
        "        if k == 'title':\n",
        "          tot_courses.append(value)\n",
        "    return tot_courses\n",
        "  else:\n",
        "    return []\n",
        "\n",
        "df['сourses'] = df['сourses'].apply(lambda x: courses_filter(x) if pd.notnull(x) else x)"
      ],
      "metadata": {
        "id": "HZE1rgp_on9f"
      },
      "execution_count": null,
      "outputs": []
    },
    {
      "cell_type": "code",
      "source": [
        "df['сourses'][24]"
      ],
      "metadata": {
        "colab": {
          "base_uri": "https://localhost:8080/"
        },
        "id": "ZSFzTCFKjIj7",
        "outputId": "eaf5fa1a-0fec-408c-f93e-a7eeeeaecc04"
      },
      "execution_count": null,
      "outputs": [
        {
          "output_type": "execute_result",
          "data": {
            "text/plain": [
              "['Masters work in Computer Architecture']"
            ]
          },
          "metadata": {},
          "execution_count": 42
        }
      ]
    },
    {
      "cell_type": "code",
      "source": [
        "len(df)"
      ],
      "metadata": {
        "colab": {
          "base_uri": "https://localhost:8080/"
        },
        "id": "RpVr8oipyvJV",
        "outputId": "4724f62e-2a3a-494c-f0aa-3c4360c31aa4"
      },
      "execution_count": null,
      "outputs": [
        {
          "output_type": "execute_result",
          "data": {
            "text/plain": [
              "947"
            ]
          },
          "metadata": {},
          "execution_count": 43
        }
      ]
    },
    {
      "cell_type": "code",
      "source": [
        "len(df.columns)"
      ],
      "metadata": {
        "colab": {
          "base_uri": "https://localhost:8080/"
        },
        "id": "gDbx_MW6yvTw",
        "outputId": "6092689d-80c9-459e-fc99-febd622b1c6b"
      },
      "execution_count": null,
      "outputs": [
        {
          "output_type": "execute_result",
          "data": {
            "text/plain": [
              "11"
            ]
          },
          "metadata": {},
          "execution_count": 51
        }
      ]
    },
    {
      "cell_type": "code",
      "source": [
        "sns.heatmap(df.isnull(),yticklabels=False,cbar=False)"
      ],
      "metadata": {
        "colab": {
          "base_uri": "https://localhost:8080/",
          "height": 598
        },
        "id": "6NUhzKX0czUq",
        "outputId": "247da68e-bb7d-4108-daec-4b981f5eef5a"
      },
      "execution_count": null,
      "outputs": [
        {
          "output_type": "execute_result",
          "data": {
            "text/plain": [
              "<Axes: >"
            ]
          },
          "metadata": {},
          "execution_count": 44
        },
        {
          "output_type": "display_data",
          "data": {
            "text/plain": [
              "<Figure size 640x480 with 1 Axes>"
            ],
            "image/png": "[encoded data removed]"
          },
          "metadata": {}
        }
      ]
    },
    {
      "cell_type": "code",
      "source": [
        "df.head()"
      ],
      "metadata": {
        "colab": {
          "base_uri": "https://localhost:8080/",
          "height": 432
        },
        "id": "GDxjG85XdvpK",
        "outputId": "d1dfe189-0b0e-46b4-d85d-caef751e0f37"
      },
      "execution_count": null,
      "outputs": [
        {
          "output_type": "execute_result",
          "data": {
            "text/plain": [
              "                                     name                       city  \\\n",
              "0  Catherine Fitzpatrick (McIlkenny), B.A                     Canada   \n",
              "1                              Margot Bon  The Randstad, Netherlands   \n",
              "2                               Mike Dean    England, United Kingdom   \n",
              "3                      Giovanna Panarella  Avellino, Campania, Italy   \n",
              "4                           Steve Latimer            Ontario, Canada   \n",
              "\n",
              "  country_code           current_company:name  \\\n",
              "0           CA                     Unemployed   \n",
              "1           NL               Gemeente Utrecht   \n",
              "2           UK                   Network Rail   \n",
              "3           IT                      Freelance   \n",
              "4           CA  Mid-Range Computer Group Inc.   \n",
              "\n",
              "                                            position  \\\n",
              "0  Snr Business Analyst at Emploi et Développemen...   \n",
              "1  Communicatieadviseur Corporate & Strategie Gem...   \n",
              "2               Network Data Manager at Network Rail   \n",
              "3                             Architetto (Freelance)   \n",
              "4  Senior Account Executive at Mid-Range Computer...   \n",
              "\n",
              "                                          experience  \\\n",
              "0                                                 []   \n",
              "1  [{'company': 'Gemeente Utrecht', 'position': '...   \n",
              "2  [{'company': 'Network Rail', 'position': 'Netw...   \n",
              "3  [{'company': 'Freelance', 'position': 'Archite...   \n",
              "4  [{'company': 'Mid-Range Computer Group Inc.', ...   \n",
              "\n",
              "                                           education  \\\n",
              "0  [{'degree': 'Bachelor of Arts (B.A.) Honours',...   \n",
              "1  [{'degree': 'Scrum en Agile werken', 'skills':...   \n",
              "2  [{'degree': '2:2', 'skills': 'Electronic Engin...   \n",
              "3  [{'degree': '“Corso di aggiornamento professio...   \n",
              "4  [{'degree': '', 'skills': ''}, {'degree': 'Uni...   \n",
              "\n",
              "                          languages  \\\n",
              "0                               NaN   \n",
              "1  [English, German, French, Dutch]   \n",
              "2                               NaN   \n",
              "3                               NaN   \n",
              "4                               NaN   \n",
              "\n",
              "                                      certifications сourses  \n",
              "0                                                NaN     NaN  \n",
              "1         [Senior Communicatieprofessional C (BNP4)]     NaN  \n",
              "2                                                NaN     NaN  \n",
              "3                                                NaN     NaN  \n",
              "4  [IBM Power Systems Enterprise Linux Technical ...     NaN  "
            ],
            "text/html": [
              "\n",
              "  <div id=\"df-d0a8ca50-7753-4456-b855-80cc0ba28c3b\" class=\"colab-df-container\">\n",
              "    <div>\n",
              "<style scoped>\n",
              "    .dataframe tbody tr th:only-of-type {\n",
              "        vertical-align: middle;\n",
              "    }\n",
              "\n",
              "    .dataframe tbody tr th {\n",
              "        vertical-align: top;\n",
              "    }\n",
              "\n",
              "    .dataframe thead th {\n",
              "        text-align: right;\n",
              "    }\n",
              "</style>\n",
              "<table border=\"1\" class=\"dataframe\">\n",
              "  <thead>\n",
              "    <tr style=\"text-align: right;\">\n",
              "      <th></th>\n",
              "      <th>name</th>\n",
              "      <th>city</th>\n",
              "      <th>country_code</th>\n",
              "      <th>current_company:name</th>\n",
              "      <th>position</th>\n",
              "      <th>experience</th>\n",
              "      <th>education</th>\n",
              "      <th>languages</th>\n",
              "      <th>certifications</th>\n",
              "      <th>сourses</th>\n",
              "    </tr>\n",
              "  </thead>\n",
              "  <tbody>\n",
              "    <tr>\n",
              "      <th>0</th>\n",
              "      <td>Catherine Fitzpatrick (McIlkenny), B.A</td>\n",
              "      <td>Canada</td>\n",
              "      <td>CA</td>\n",
              "      <td>Unemployed</td>\n",
              "      <td>Snr Business Analyst at Emploi et Développemen...</td>\n",
              "      <td>[]</td>\n",
              "      <td>[{'degree': 'Bachelor of Arts (B.A.) Honours',...</td>\n",
              "      <td>NaN</td>\n",
              "      <td>NaN</td>\n",
              "      <td>NaN</td>\n",
              "    </tr>\n",
              "    <tr>\n",
              "      <th>1</th>\n",
              "      <td>Margot Bon</td>\n",
              "      <td>The Randstad, Netherlands</td>\n",
              "      <td>NL</td>\n",
              "      <td>Gemeente Utrecht</td>\n",
              "      <td>Communicatieadviseur Corporate &amp; Strategie Gem...</td>\n",
              "      <td>[{'company': 'Gemeente Utrecht', 'position': '...</td>\n",
              "      <td>[{'degree': 'Scrum en Agile werken', 'skills':...</td>\n",
              "      <td>[English, German, French, Dutch]</td>\n",
              "      <td>[Senior Communicatieprofessional C (BNP4)]</td>\n",
              "      <td>NaN</td>\n",
              "    </tr>\n",
              "    <tr>\n",
              "      <th>2</th>\n",
              "      <td>Mike Dean</td>\n",
              "      <td>England, United Kingdom</td>\n",
              "      <td>UK</td>\n",
              "      <td>Network Rail</td>\n",
              "      <td>Network Data Manager at Network Rail</td>\n",
              "      <td>[{'company': 'Network Rail', 'position': 'Netw...</td>\n",
              "      <td>[{'degree': '2:2', 'skills': 'Electronic Engin...</td>\n",
              "      <td>NaN</td>\n",
              "      <td>NaN</td>\n",
              "      <td>NaN</td>\n",
              "    </tr>\n",
              "    <tr>\n",
              "      <th>3</th>\n",
              "      <td>Giovanna Panarella</td>\n",
              "      <td>Avellino, Campania, Italy</td>\n",
              "      <td>IT</td>\n",
              "      <td>Freelance</td>\n",
              "      <td>Architetto (Freelance)</td>\n",
              "      <td>[{'company': 'Freelance', 'position': 'Archite...</td>\n",
              "      <td>[{'degree': '“Corso di aggiornamento professio...</td>\n",
              "      <td>NaN</td>\n",
              "      <td>NaN</td>\n",
              "      <td>NaN</td>\n",
              "    </tr>\n",
              "    <tr>\n",
              "      <th>4</th>\n",
              "      <td>Steve Latimer</td>\n",
              "      <td>Ontario, Canada</td>\n",
              "      <td>CA</td>\n",
              "      <td>Mid-Range Computer Group Inc.</td>\n",
              "      <td>Senior Account Executive at Mid-Range Computer...</td>\n",
              "      <td>[{'company': 'Mid-Range Computer Group Inc.', ...</td>\n",
              "      <td>[{'degree': '', 'skills': ''}, {'degree': 'Uni...</td>\n",
              "      <td>NaN</td>\n",
              "      <td>[IBM Power Systems Enterprise Linux Technical ...</td>\n",
              "      <td>NaN</td>\n",
              "    </tr>\n",
              "  </tbody>\n",
              "</table>\n",
              "</div>\n",
              "    <div class=\"colab-df-buttons\">\n",
              "\n",
              "  <div class=\"colab-df-container\">\n",
              "    <button class=\"colab-df-convert\" onclick=\"convertToInteractive('df-d0a8ca50-7753-4456-b855-80cc0ba28c3b')\"\n",
              "            title=\"Convert this dataframe to an interactive table.\"\n",
              "            style=\"display:none;\">\n",
              "\n",
              "  <svg xmlns=\"http://www.w3.org/2000/svg\" height=\"24px\" viewBox=\"0 -960 960 960\">\n",
              "    <path d=\"M120-120v-720h720v720H120Zm60-500h600v-160H180v160Zm220 220h160v-160H400v160Zm0 220h160v-160H400v160ZM180-400h160v-160H180v160Zm440 0h160v-160H620v160ZM180-180h160v-160H180v160Zm440 0h160v-160H620v160Z\"/>\n",
              "  </svg>\n",
              "    </button>\n",
              "\n",
              "  <style>\n",
              "    .colab-df-container {\n",
              "      display:flex;\n",
              "      gap: 12px;\n",
              "    }\n",
              "\n",
              "    .colab-df-convert {\n",
              "      background-color: #E8F0FE;\n",
              "      border: none;\n",
              "      border-radius: 50%;\n",
              "      cursor: pointer;\n",
              "      display: none;\n",
              "      fill: #1967D2;\n",
              "      height: 32px;\n",
              "      padding: 0 0 0 0;\n",
              "      width: 32px;\n",
              "    }\n",
              "\n",
              "    .colab-df-convert:hover {\n",
              "      background-color: #E2EBFA;\n",
              "      box-shadow: 0px 1px 2px rgba(60, 64, 67, 0.3), 0px 1px 3px 1px rgba(60, 64, 67, 0.15);\n",
              "      fill: #174EA6;\n",
              "    }\n",
              "\n",
              "    .colab-df-buttons div {\n",
              "      margin-bottom: 4px;\n",
              "    }\n",
              "\n",
              "    [theme=dark] .colab-df-convert {\n",
              "      background-color: #3B4455;\n",
              "      fill: #D2E3FC;\n",
              "    }\n",
              "\n",
              "    [theme=dark] .colab-df-convert:hover {\n",
              "      background-color: #434B5C;\n",
              "      box-shadow: 0px 1px 3px 1px rgba(0, 0, 0, 0.15);\n",
              "      filter: drop-shadow(0px 1px 2px rgba(0, 0, 0, 0.3));\n",
              "      fill: #FFFFFF;\n",
              "    }\n",
              "  </style>\n",
              "\n",
              "    <script>\n",
              "      const buttonEl =\n",
              "        document.querySelector('#df-d0a8ca50-7753-4456-b855-80cc0ba28c3b button.colab-df-convert');\n",
              "      buttonEl.style.display =\n",
              "        google.colab.kernel.accessAllowed ? 'block' : 'none';\n",
              "\n",
              "      async function convertToInteractive(key) {\n",
              "        const element = document.querySelector('#df-d0a8ca50-7753-4456-b855-80cc0ba28c3b');\n",
              "        const dataTable =\n",
              "          await google.colab.kernel.invokeFunction('convertToInteractive',\n",
              "                                                    [key], {});\n",
              "        if (!dataTable) return;\n",
              "\n",
              "        const docLinkHtml = 'Like what you see? Visit the ' +\n",
              "          '<a target=\"_blank\" href=https://colab.research.google.com/notebooks/data_table.ipynb>data table notebook</a>'\n",
              "          + ' to learn more about interactive tables.';\n",
              "        element.innerHTML = '';\n",
              "        dataTable['output_type'] = 'display_data';\n",
              "        await google.colab.output.renderOutput(dataTable, element);\n",
              "        const docLink = document.createElement('div');\n",
              "        docLink.innerHTML = docLinkHtml;\n",
              "        element.appendChild(docLink);\n",
              "      }\n",
              "    </script>\n",
              "  </div>\n",
              "\n",
              "\n",
              "<div id=\"df-92afdbf9-48cf-428d-b57c-9995951a1708\">\n",
              "  <button class=\"colab-df-quickchart\" onclick=\"quickchart('df-92afdbf9-48cf-428d-b57c-9995951a1708')\"\n",
              "            title=\"Suggest charts\"\n",
              "            style=\"display:none;\">\n",
              "\n",
              "<svg xmlns=\"http://www.w3.org/2000/svg\" height=\"24px\"viewBox=\"0 0 24 24\"\n",
              "     width=\"24px\">\n",
              "    <g>\n",
              "        <path d=\"M19 3H5c-1.1 0-2 .9-2 2v14c0 1.1.9 2 2 2h14c1.1 0 2-.9 2-2V5c0-1.1-.9-2-2-2zM9 17H7v-7h2v7zm4 0h-2V7h2v10zm4 0h-2v-4h2v4z\"/>\n",
              "    </g>\n",
              "</svg>\n",
              "  </button>\n",
              "\n",
              "<style>\n",
              "  .colab-df-quickchart {\n",
              "      --bg-color: #E8F0FE;\n",
              "      --fill-color: #1967D2;\n",
              "      --hover-bg-color: #E2EBFA;\n",
              "      --hover-fill-color: #174EA6;\n",
              "      --disabled-fill-color: #AAA;\n",
              "      --disabled-bg-color: #DDD;\n",
              "  }\n",
              "\n",
              "  [theme=dark] .colab-df-quickchart {\n",
              "      --bg-color: #3B4455;\n",
              "      --fill-color: #D2E3FC;\n",
              "      --hover-bg-color: #434B5C;\n",
              "      --hover-fill-color: #FFFFFF;\n",
              "      --disabled-bg-color: #3B4455;\n",
              "      --disabled-fill-color: #666;\n",
              "  }\n",
              "\n",
              "  .colab-df-quickchart {\n",
              "    background-color: var(--bg-color);\n",
              "    border: none;\n",
              "    border-radius: 50%;\n",
              "    cursor: pointer;\n",
              "    display: none;\n",
              "    fill: var(--fill-color);\n",
              "    height: 32px;\n",
              "    padding: 0;\n",
              "    width: 32px;\n",
              "  }\n",
              "\n",
              "  .colab-df-quickchart:hover {\n",
              "    background-color: var(--hover-bg-color);\n",
              "    box-shadow: 0 1px 2px rgba(60, 64, 67, 0.3), 0 1px 3px 1px rgba(60, 64, 67, 0.15);\n",
              "    fill: var(--button-hover-fill-color);\n",
              "  }\n",
              "\n",
              "  .colab-df-quickchart-complete:disabled,\n",
              "  .colab-df-quickchart-complete:disabled:hover {\n",
              "    background-color: var(--disabled-bg-color);\n",
              "    fill: var(--disabled-fill-color);\n",
              "    box-shadow: none;\n",
              "  }\n",
              "\n",
              "  .colab-df-spinner {\n",
              "    border: 2px solid var(--fill-color);\n",
              "    border-color: transparent;\n",
              "    border-bottom-color: var(--fill-color);\n",
              "    animation:\n",
              "      spin 1s steps(1) infinite;\n",
              "  }\n",
              "\n",
              "  @keyframes spin {\n",
              "    0% {\n",
              "      border-color: transparent;\n",
              "      border-bottom-color: var(--fill-color);\n",
              "      border-left-color: var(--fill-color);\n",
              "    }\n",
              "    20% {\n",
              "      border-color: transparent;\n",
              "      border-left-color: var(--fill-color);\n",
              "      border-top-color: var(--fill-color);\n",
              "    }\n",
              "    30% {\n",
              "      border-color: transparent;\n",
              "      border-left-color: var(--fill-color);\n",
              "      border-top-color: var(--fill-color);\n",
              "      border-right-color: var(--fill-color);\n",
              "    }\n",
              "    40% {\n",
              "      border-color: transparent;\n",
              "      border-right-color: var(--fill-color);\n",
              "      border-top-color: var(--fill-color);\n",
              "    }\n",
              "    60% {\n",
              "      border-color: transparent;\n",
              "      border-right-color: var(--fill-color);\n",
              "    }\n",
              "    80% {\n",
              "      border-color: transparent;\n",
              "      border-right-color: var(--fill-color);\n",
              "      border-bottom-color: var(--fill-color);\n",
              "    }\n",
              "    90% {\n",
              "      border-color: transparent;\n",
              "      border-bottom-color: var(--fill-color);\n",
              "    }\n",
              "  }\n",
              "</style>\n",
              "\n",
              "  <script>\n",
              "    async function quickchart(key) {\n",
              "      const quickchartButtonEl =\n",
              "        document.querySelector('#' + key + ' button');\n",
              "      quickchartButtonEl.disabled = true;  // To prevent multiple clicks.\n",
              "      quickchartButtonEl.classList.add('colab-df-spinner');\n",
              "      try {\n",
              "        const charts = await google.colab.kernel.invokeFunction(\n",
              "            'suggestCharts', [key], {});\n",
              "      } catch (error) {\n",
              "        console.error('Error during call to suggestCharts:', error);\n",
              "      }\n",
              "      quickchartButtonEl.classList.remove('colab-df-spinner');\n",
              "      quickchartButtonEl.classList.add('colab-df-quickchart-complete');\n",
              "    }\n",
              "    (() => {\n",
              "      let quickchartButtonEl =\n",
              "        document.querySelector('#df-92afdbf9-48cf-428d-b57c-9995951a1708 button');\n",
              "      quickchartButtonEl.style.display =\n",
              "        google.colab.kernel.accessAllowed ? 'block' : 'none';\n",
              "    })();\n",
              "  </script>\n",
              "</div>\n",
              "\n",
              "    </div>\n",
              "  </div>\n"
            ]
          },
          "metadata": {},
          "execution_count": 45
        }
      ]
    },
    {
      "cell_type": "code",
      "source": [
        "print(f'Language : {df.languages[1]}')\n",
        "print(f'Experience : {df.experience[1]}')\n",
        "print(f'Certs : {df.certifications[1]}')\n",
        "print(f'Courses : {df[\"сourses\"][24]}')"
      ],
      "metadata": {
        "id": "0ccLx7Ipdvk3",
        "colab": {
          "base_uri": "https://localhost:8080/"
        },
        "outputId": "90565a4c-5054-4522-f8cf-ad756795e191"
      },
      "execution_count": null,
      "outputs": [
        {
          "output_type": "stream",
          "name": "stdout",
          "text": [
            "Language : ['English', 'German', 'French', 'Dutch']\n",
            "Experience : [{'company': 'Gemeente Utrecht', 'position': 'Communicatieadviseur Corporate & Strategie', 'duration': '8 months'}]\n",
            "Certs : ['Senior Communicatieprofessional C (BNP4)']\n",
            "Courses : ['Masters work in Computer Architecture']\n"
          ]
        }
      ]
    },
    {
      "cell_type": "code",
      "source": [
        "df_country = df.dropna(subset=['country_code'])\n",
        "\n",
        "# Get the top 10 countries with the most professionals\n",
        "top_countries = df_country['country_code'].value_counts().head(10)\n",
        "\n",
        "plt.figure(figsize=(12, 6))\n",
        "sns.barplot(x=top_countries.index, y=top_countries.values, palette='viridis')\n",
        "plt.title('Top 10 Countries with the Most Professionals')\n",
        "plt.xlabel('Country Code')\n",
        "plt.ylabel('Number of Professionals')\n",
        "plt.xticks(rotation=45)\n",
        "plt.show()"
      ],
      "metadata": {
        "id": "4VtQiFsB9UVA",
        "colab": {
          "base_uri": "https://localhost:8080/",
          "height": 666
        },
        "outputId": "50fdac87-362a-4a8e-9e41-b0d32379435e"
      },
      "execution_count": null,
      "outputs": [
        {
          "output_type": "stream",
          "name": "stderr",
          "text": [
            "<ipython-input-49-a2ea0b85cedf>:7: FutureWarning: \n",
            "\n",
            "Passing `palette` without assigning `hue` is deprecated and will be removed in v0.14.0. Assign the `x` variable to `hue` and set `legend=False` for the same effect.\n",
            "\n",
            "  sns.barplot(x=top_countries.index, y=top_countries.values, palette='viridis')\n"
          ]
        },
        {
          "output_type": "display_data",
          "data": {
            "text/plain": [
              "<Figure size 1200x600 with 1 Axes>"
            ],
            "image/png": "[encoded data removed]"
          },
          "metadata": {}
        }
      ]
    },
    {
      "cell_type": "code",
      "source": [
        "df_company = df.dropna(subset=['current_company:name'])\n",
        "\n",
        "# Get the top 10 companies with the most professionals\n",
        "top_companies = df_company['current_company:name'].value_counts().head(10)\n",
        "\n",
        "plt.figure(figsize=(12, 6))\n",
        "sns.barplot(y=top_companies.index, x=top_companies.values, palette='viridis')\n",
        "plt.title('Top 10 Companies with the Most Professionals')\n",
        "plt.xlabel('Number of Professionals')\n",
        "plt.ylabel('Company Name')\n",
        "plt.show()"
      ],
      "metadata": {
        "id": "qAbdbgQxAaGD",
        "colab": {
          "base_uri": "https://localhost:8080/",
          "height": 656
        },
        "outputId": "02eac0a2-4a15-4662-905e-1667718a3233"
      },
      "execution_count": null,
      "outputs": [
        {
          "output_type": "stream",
          "name": "stderr",
          "text": [
            "<ipython-input-50-69f12eecfdeb>:7: FutureWarning: \n",
            "\n",
            "Passing `palette` without assigning `hue` is deprecated and will be removed in v0.14.0. Assign the `y` variable to `hue` and set `legend=False` for the same effect.\n",
            "\n",
            "  sns.barplot(y=top_companies.index, x=top_companies.values, palette='viridis')\n"
          ]
        },
        {
          "output_type": "display_data",
          "data": {
            "text/plain": [
              "<Figure size 1200x600 with 1 Axes>"
            ],
            "image/png": "[encoded data removed]"
          },
          "metadata": {}
        }
      ]
    },
    {
      "cell_type": "code",
      "source": [],
      "metadata": {
        "id": "Gz6SJPHqku1g"
      },
      "execution_count": null,
      "outputs": []
    }
  ]
}